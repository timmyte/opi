{
 "cells": [
  {
   "cell_type": "markdown",
   "id": "c88a4a10",
   "metadata": {},
   "source": [
    "# CheMeleon, Chemprop, and ORCA Integration\n",
    "\n",
    "----\n",
    "\n",
    "**Disclaimer**  \n",
    "This community notebook was kindly supplied by [Jackson Burns](https://github.com/JacksonBurns) for OPI version 1.0.0. It has been slightly adapted for working with the current OPI version.\n",
    "\n",
    "----\n",
    "\n",
    "With the release of [ORCA's Python interface](https://github.com/faccts/opi), it is now possible to directly integrate ORCA QM simulation results intro Chemprop models, all in code.\n",
    "\n",
    "This notebook will demonstrate how to use the [CheMeleon pre-trained Chemprop model](https://doi.org/10.48550/arXiv.2506.15792) alongside ORCA to upgrade on-the-fly Hartree-Fock level HOMO-LUMO gap predictions up to the GW level of theory (a form of transfer learning).\n",
    "\n",
    "Quick note on sources for this notebook, which may be helpful in extending it for your own work:\n",
    " - code for wrapping ORCA was derived from [this official ORCA tutorial](https://github.com/faccts/opi/blob/main/docs/contents/notebooks/ml_properties.ipynb)\n",
    " - Chemprop training code was derived from [the CheMeleon demo notebook](https://github.com/JacksonBurns/chemeleon/blob/main/finetuning_demo.ipynb) and [the RIGR demo notebook](https://github.com/chemprop/chemprop/blob/main/examples/rigr_featurizer.ipynb), which shows how to use featurizers\n",
    " - high-quality GW HOMO-LUMO gaps were retrieved from [this paper](https://www.nature.com/articles/s41597-023-02486-4) and manually collected using the [MoleculeNet `qm9.csv`](https://deepchemdata.s3-us-west-1.amazonaws.com/datasets/qm9.csv) to generate [`gwqm9.csv`](./gwqm9.csv)\n",
    "\n",
    "This featurizer is best used from Python code, but you can add it to your local installation of Chemprop to make it accessible via the CLI."
   ]
  },
  {
   "cell_type": "markdown",
   "id": "03dacd04",
   "metadata": {},
   "source": [
    "## Step 1: Data Loading\n",
    "\n",
    "First we'll load the training data for this study, which are HOMO-LUMO gaps calculated at the GW level of theory (very accurate)."
   ]
  },
  {
   "cell_type": "code",
   "execution_count": null,
   "id": "de37a341",
   "metadata": {},
   "outputs": [],
   "source": [
    "from pathlib import Path\n",
    "\n",
    "import pandas as pd"
   ]
  },
  {
   "cell_type": "code",
   "execution_count": null,
   "id": "91482882",
   "metadata": {},
   "outputs": [],
   "source": [
    "gwqm9_df = pd.read_csv(Path(\"data/gwqm9.csv\"), index_col=\"gdb_id\").sample(n=100, random_state=13)"
   ]
  },
  {
   "cell_type": "code",
   "execution_count": 3,
   "id": "1b712b4f",
   "metadata": {},
   "outputs": [
    {
     "data": {
      "text/html": [
       "<div>\n",
       "<style scoped>\n",
       "    .dataframe tbody tr th:only-of-type {\n",
       "        vertical-align: middle;\n",
       "    }\n",
       "\n",
       "    .dataframe tbody tr th {\n",
       "        vertical-align: top;\n",
       "    }\n",
       "\n",
       "    .dataframe thead th {\n",
       "        text-align: right;\n",
       "    }\n",
       "</style>\n",
       "<table border=\"1\" class=\"dataframe\">\n",
       "  <thead>\n",
       "    <tr style=\"text-align: right;\">\n",
       "      <th></th>\n",
       "      <th>smiles</th>\n",
       "      <th>gap</th>\n",
       "      <th>homo</th>\n",
       "      <th>lumo</th>\n",
       "    </tr>\n",
       "    <tr>\n",
       "      <th>gdb_id</th>\n",
       "      <th></th>\n",
       "      <th></th>\n",
       "      <th></th>\n",
       "      <th></th>\n",
       "    </tr>\n",
       "  </thead>\n",
       "  <tbody>\n",
       "    <tr>\n",
       "      <th>65846</th>\n",
       "      <td>CC1(OCC(=N)O1)C#C</td>\n",
       "      <td>11.944656</td>\n",
       "      <td>-10.941918</td>\n",
       "      <td>1.002738</td>\n",
       "    </tr>\n",
       "    <tr>\n",
       "      <th>50359</th>\n",
       "      <td>O=CC1CC2CCC2C1</td>\n",
       "      <td>11.160280</td>\n",
       "      <td>-10.254560</td>\n",
       "      <td>0.905720</td>\n",
       "    </tr>\n",
       "    <tr>\n",
       "      <th>9017</th>\n",
       "      <td>C#CC(=NCC#N)N</td>\n",
       "      <td>10.593476</td>\n",
       "      <td>-10.309429</td>\n",
       "      <td>0.284047</td>\n",
       "    </tr>\n",
       "    <tr>\n",
       "      <th>99106</th>\n",
       "      <td>CCC(=O)CC1(CC1)O</td>\n",
       "      <td>10.594400</td>\n",
       "      <td>-10.031040</td>\n",
       "      <td>0.563360</td>\n",
       "    </tr>\n",
       "    <tr>\n",
       "      <th>67617</th>\n",
       "      <td>CC12C3C4CN1C2C34O</td>\n",
       "      <td>10.072730</td>\n",
       "      <td>-9.144838</td>\n",
       "      <td>0.927892</td>\n",
       "    </tr>\n",
       "    <tr>\n",
       "      <th>...</th>\n",
       "      <td>...</td>\n",
       "      <td>...</td>\n",
       "      <td>...</td>\n",
       "      <td>...</td>\n",
       "    </tr>\n",
       "    <tr>\n",
       "      <th>68353</th>\n",
       "      <td>CC12CC(O1)C=CC=C2</td>\n",
       "      <td>8.874720</td>\n",
       "      <td>-8.965202</td>\n",
       "      <td>-0.090481</td>\n",
       "    </tr>\n",
       "    <tr>\n",
       "      <th>79727</th>\n",
       "      <td>OC1C2C(C3CN23)C1=O</td>\n",
       "      <td>10.044475</td>\n",
       "      <td>-9.890770</td>\n",
       "      <td>0.153705</td>\n",
       "    </tr>\n",
       "    <tr>\n",
       "      <th>42907</th>\n",
       "      <td>O=C1C(C2CN12)N1CC1</td>\n",
       "      <td>10.332981</td>\n",
       "      <td>-9.440558</td>\n",
       "      <td>0.892423</td>\n",
       "    </tr>\n",
       "    <tr>\n",
       "      <th>62334</th>\n",
       "      <td>OC1(C#N)C2C3OC3C12</td>\n",
       "      <td>11.822375</td>\n",
       "      <td>-10.715498</td>\n",
       "      <td>1.106877</td>\n",
       "    </tr>\n",
       "    <tr>\n",
       "      <th>104271</th>\n",
       "      <td>OCC1(O)CCC1C#N</td>\n",
       "      <td>11.980108</td>\n",
       "      <td>-11.099649</td>\n",
       "      <td>0.880459</td>\n",
       "    </tr>\n",
       "  </tbody>\n",
       "</table>\n",
       "<p>100 rows × 4 columns</p>\n",
       "</div>"
      ],
      "text/plain": [
       "                    smiles        gap       homo      lumo\n",
       "gdb_id                                                    \n",
       "65846    CC1(OCC(=N)O1)C#C  11.944656 -10.941918  1.002738\n",
       "50359       O=CC1CC2CCC2C1  11.160280 -10.254560  0.905720\n",
       "9017         C#CC(=NCC#N)N  10.593476 -10.309429  0.284047\n",
       "99106     CCC(=O)CC1(CC1)O  10.594400 -10.031040  0.563360\n",
       "67617    CC12C3C4CN1C2C34O  10.072730  -9.144838  0.927892\n",
       "...                    ...        ...        ...       ...\n",
       "68353    CC12CC(O1)C=CC=C2   8.874720  -8.965202 -0.090481\n",
       "79727   OC1C2C(C3CN23)C1=O  10.044475  -9.890770  0.153705\n",
       "42907   O=C1C(C2CN12)N1CC1  10.332981  -9.440558  0.892423\n",
       "62334   OC1(C#N)C2C3OC3C12  11.822375 -10.715498  1.106877\n",
       "104271      OCC1(O)CCC1C#N  11.980108 -11.099649  0.880459\n",
       "\n",
       "[100 rows x 4 columns]"
      ]
     },
     "execution_count": 3,
     "metadata": {},
     "output_type": "execute_result"
    }
   ],
   "source": [
    "gwqm9_df"
   ]
  },
  {
   "cell_type": "markdown",
   "id": "aab1172f",
   "metadata": {},
   "source": [
    "It's desirable to be able to predict the `gap` at the GW level of accuracy without actually expending the GW level of cost - this is where transfer learning comes in.\n",
    "We will train a Chemprop-based model that takes HOMO and LUMO energy estimated using a cheap theory as inputs, and then outputs the predicted gap.\n",
    "This improves model performance while using less total computational time relative to GW."
   ]
  },
  {
   "cell_type": "markdown",
   "id": "10850cc7",
   "metadata": {},
   "source": [
    "## Step 2: `featurizer` Setup\n",
    "\n",
    "Next we need to set up the `featurizer`, which is Chemprop's way of translating a molecular structure, atom, or bond into a computer-readable vector.\n",
    "\n",
    "Specifically here we are going to make a Molecule featurizer, which generates a feature vector that will be concatenated to the learned representation and then passed to the feedforward neural network.\n",
    "\n",
    "We'll start by importing the corresponding ORCA and Chemprop classes."
   ]
  },
  {
   "cell_type": "code",
   "execution_count": 4,
   "id": "78657414",
   "metadata": {},
   "outputs": [],
   "source": [
    "import atexit\n",
    "import json\n",
    "import os\n",
    "import shutil\n",
    "from pathlib import Path\n",
    "\n",
    "import numpy as np\n",
    "from chemprop.featurizers import MoleculeFeaturizerRegistry, VectorFeaturizer\n",
    "from rdkit import Chem\n",
    "from rdkit.Chem import AllChem\n",
    "from rdkit.Chem import rdDistGeom\n",
    "from opi.core import Calculator\n",
    "from opi.input.simple_keywords import BasisSet, Wft\n",
    "from opi.input.structures.structure import Structure\n"
   ]
  },
  {
   "cell_type": "markdown",
   "id": "e1e47eed",
   "metadata": {},
   "source": [
    "This featurizer takes in the `working_directory` (where ORCA writes temporary files) and a set of keywords to configure how ORCA will behave.\n",
    "When called, it then:\n",
    " - checks its cache to see if we have previously calculated this molecule, returning it if so\n",
    " - embeds the molecule using a quick RDKit-based force field calculation\n",
    " - calls ORCA via its Python interface\n",
    " - checks and prepares the results\n",
    "\n",
    "Quick note about 2D vs. 3D.\n",
    "Chemprop is an entirely 2D method, so incorporating 3D-based descriptors into the representation can improve its predictions of 3D properties (like those from QM simulations).\n",
    "I appreciate the irony of the current \"guess the geometry with a force field\" approach, given that the geometries can actually be found in the original QM9 paper.\n",
    "The point is that we might not have high-quality geometries in the future for new molecules we want to try predicting on, and that the neural network should be able to \"pick up the slack\" of using a cheap QM method combined with a cheap geometry guess."
   ]
  },
  {
   "cell_type": "code",
   "execution_count": null,
   "id": "160c253a",
   "metadata": {},
   "outputs": [],
   "source": [
    "@MoleculeFeaturizerRegistry(\"orca_homo_lumo\")\n",
    "class ORCAHomoLumoFeaturizer(VectorFeaturizer[Chem.Mol]):\n",
    "    h_to_eV = 27.2114\n",
    "\n",
    "    def __init__(self, working_dir, simple_keywords_list):\n",
    "        self.working_dir = working_dir\n",
    "        self.simple_keywords_list = simple_keywords_list\n",
    "        # caching - saves to memory during runs, saves to disk on exit (or manual call)\n",
    "        self.cache = {}\n",
    "        self.cache_file = \"featurizer_cache.json\"\n",
    "        if os.path.exists(self.cache_file):\n",
    "            with open(self.cache_file, \"r\") as f:\n",
    "                self.cache = json.load(f)\n",
    "        atexit.register(self.dump_cache)\n",
    "    \n",
    "    def get_calculator(self):\n",
    "        # clear output to avoid attempted restarts of previous calculations\n",
    "        shutil.rmtree(self.working_dir, ignore_errors=True)\n",
    "        self.working_dir.mkdir()\n",
    "        # initialize the calculator and return it\n",
    "        calculator = Calculator(\"single_point\", self.working_dir)\n",
    "        calculator.input.add_simple_keywords(*self.simple_keywords_list)\n",
    "        calculator.input.ncores = 1\n",
    "        return calculator\n",
    "\n",
    "    def __len__(self) -> int:\n",
    "        return 2  # HOMO and LUMO\n",
    "    \n",
    "    def _add_conf(mol: Chem.Mol):\n",
    "        params = rdDistGeom.ETKDGv3()\n",
    "        params.randomSeed = 0xf00d  # for reproducibility\n",
    "        if AllChem.EmbedMolecule(mol, params) != 0:\n",
    "            raise RuntimeError(\"Embedding failed\")\n",
    "        AllChem.UFFOptimizeMolecule(mol)\n",
    "\n",
    "    def __call__(self, mol: Chem.Mol) -> np.ndarray:\n",
    "        inchi = Chem.MolToInchi(mol)\n",
    "        if inchi in self.cache:\n",
    "            return np.array(self.cache[inchi], dtype=float)\n",
    "        try:\n",
    "            # embed 3d if absent\n",
    "            if mol.GetNumConformers() == 0:\n",
    "                ORCAHomoLumoFeaturizer._add_conf(mol)\n",
    "            # setup and run calculation\n",
    "            calculator = self.get_calculator()\n",
    "            calculator.structure = Structure.from_rdkitmol(mol)\n",
    "            calculator.write_input()\n",
    "            calculator.run()\n",
    "            # check for convergence\n",
    "            output = calculator.get_output()\n",
    "            if not output.terminated_normally():\n",
    "                raise RuntimeError(f\"Calculation for molecule {Chem.MolToSmiles(mol)} failed!\")\n",
    "            # get the results\n",
    "            output.parse()\n",
    "            HOMO_energy = output.get_homo().orbitalenergy * ORCAHomoLumoFeaturizer.h_to_eV\n",
    "            LUMO_energy = output.get_lumo().orbitalenergy * ORCAHomoLumoFeaturizer.h_to_eV\n",
    "            result = [HOMO_energy, LUMO_energy]\n",
    "        except:  # if any stage of the calculation fails, just pass no information\n",
    "            result = [0.0, 0.0]\n",
    "        self.cache[inchi] = result\n",
    "        return np.array(result)\n",
    "    \n",
    "    def dump_cache(self):\n",
    "        with open(self.cache_file, \"w\") as f:\n",
    "            json.dump(self.cache, f)"
   ]
  },
  {
   "cell_type": "markdown",
   "id": "c19562b5",
   "metadata": {},
   "source": [
    "We'll define a directory for ORCA to store its temporary files:"
   ]
  },
  {
   "cell_type": "code",
   "execution_count": 6,
   "id": "5c7ebf14",
   "metadata": {},
   "outputs": [],
   "source": [
    "working_dir = Path(\".orca_outputs\")"
   ]
  },
  {
   "cell_type": "markdown",
   "id": "8b34758f",
   "metadata": {},
   "source": [
    "Then finally initialize the featurizer!\n",
    "For this demo we will use a _very_ cheap QM method: Hartree-Fock with STO-3G orbitals.\n",
    "We don't expect the absolute values of the HOMO-LUMO gaps to be accurate, but the _trend_ should be good enough that the neural network can improve it."
   ]
  },
  {
   "cell_type": "code",
   "execution_count": 7,
   "id": "23e4d000",
   "metadata": {},
   "outputs": [],
   "source": [
    "orca_feat = ORCAHomoLumoFeaturizer(\n",
    "    working_dir,\n",
    "    [\n",
    "        Wft.HF,\n",
    "        BasisSet.STO_3G,\n",
    "    ]\n",
    ")"
   ]
  },
  {
   "cell_type": "markdown",
   "id": "150eaff3",
   "metadata": {},
   "source": [
    "We can test this featurizer on the first molecule in our dataset, just to see that it works:"
   ]
  },
  {
   "cell_type": "code",
   "execution_count": 8,
   "id": "61fac6de",
   "metadata": {},
   "outputs": [
    {
     "name": "stderr",
     "output_type": "stream",
     "text": [
      "[16:23:44] WARNING: Omitted undefined stereo\n",
      "\n"
     ]
    },
    {
     "data": {
      "text/plain": [
       "array([-8.41338135,  7.92808499])"
      ]
     },
     "execution_count": 8,
     "metadata": {},
     "output_type": "execute_result"
    }
   ],
   "source": [
    "output = orca_feat(Chem.AddHs(Chem.MolFromSmiles(gwqm9_df.iloc[0].loc[\"smiles\"])))\n",
    "output"
   ]
  },
  {
   "cell_type": "markdown",
   "id": "5227704f",
   "metadata": {},
   "source": [
    "## Step 3: Chemprop Training\n",
    "\n",
    "Now we will get Chemprop set up, including:\n",
    " - `import`s for required classes\n",
    " - data preparation and casting to PyTorch-compatible types\n",
    " - downloading the CheMeleon pre-trained model\n",
    " - training and inference"
   ]
  },
  {
   "cell_type": "code",
   "execution_count": 9,
   "id": "7010724e",
   "metadata": {},
   "outputs": [],
   "source": [
    "from pathlib import Path\n",
    "\n",
    "from lightning import pytorch as pl\n",
    "from lightning.pytorch.callbacks import EarlyStopping\n",
    "import numpy as np\n",
    "from tqdm import tqdm\n",
    "from rdkit.rdBase import BlockLogs\n",
    "from chemprop import data, featurizers, models, nn\n",
    "from chemprop.utils import make_mol"
   ]
  },
  {
   "cell_type": "markdown",
   "id": "86ab6dfc",
   "metadata": {},
   "source": [
    "For the sake of this demo we will set a random seed for everything, making the results the same for everyone who runs the notebook."
   ]
  },
  {
   "cell_type": "code",
   "execution_count": 10,
   "id": "9ee41f12",
   "metadata": {},
   "outputs": [
    {
     "name": "stderr",
     "output_type": "stream",
     "text": [
      "Seed set to 13\n"
     ]
    },
    {
     "data": {
      "text/plain": [
       "13"
      ]
     },
     "execution_count": 10,
     "metadata": {},
     "output_type": "execute_result"
    }
   ],
   "source": [
    "pl.seed_everything(13)"
   ]
  },
  {
   "cell_type": "markdown",
   "id": "c5118d3e",
   "metadata": {},
   "source": [
    "Now we can use our `featurizer` to calculate the extra features for Chemprop!\n",
    "Usage is very straightforward, all happening inside the list comprehension."
   ]
  },
  {
   "cell_type": "code",
   "execution_count": 11,
   "id": "261fb842",
   "metadata": {},
   "outputs": [
    {
     "name": "stderr",
     "output_type": "stream",
     "text": [
      "Running QM Simulations: 100%|██████████| 100/100 [00:00<00:00, 5410.61it/s]\n",
      "The return type of make_split_indices has changed in v2.1 - see help(make_split_indices)\n"
     ]
    }
   ],
   "source": [
    "smis = gwqm9_df[\"smiles\"].values\n",
    "ys = gwqm9_df[[\"gap\"]].values\n",
    "\n",
    "mols = [make_mol(smi, add_h=True, keep_h=True) for smi in smis]\n",
    "\n",
    "with BlockLogs():\n",
    "    x_ds = [orca_feat(mol) for mol in tqdm(mols, desc=\"Running QM Simulations\")]\n",
    "\n",
    "all_data = [data.MoleculeDatapoint(mol, name=smi, y=y, x_d=x_d) for mol, smi, y, x_d in zip(mols, smis, ys, x_ds)]\n",
    "train_indices, val_indices, test_indices = data.make_split_indices(mols, \"random\", (0.8, 0.1, 0.1))\n",
    "train_data, val_data, test_data = data.split_data_by_indices(\n",
    "    all_data, train_indices, val_indices, test_indices\n",
    ")"
   ]
  },
  {
   "cell_type": "markdown",
   "id": "06fae135",
   "metadata": {},
   "source": [
    "We'll manually dump the cache to disk here - this will normally be called when your `python` exits, here we don't want to exit the notebook's kernel."
   ]
  },
  {
   "cell_type": "code",
   "execution_count": 12,
   "id": "b33f2cf9",
   "metadata": {},
   "outputs": [],
   "source": [
    "orca_feat.dump_cache()"
   ]
  },
  {
   "cell_type": "markdown",
   "id": "0047113f",
   "metadata": {},
   "source": [
    "Now we can finally cast everything into datasets and then start building the actual model."
   ]
  },
  {
   "cell_type": "code",
   "execution_count": 13,
   "id": "dca2e45c",
   "metadata": {},
   "outputs": [],
   "source": [
    "featurizer = featurizers.SimpleMoleculeMolGraphFeaturizer()\n",
    "train_dset = data.MoleculeDataset(train_data[0], featurizer)\n",
    "scaler = train_dset.normalize_targets()\n",
    "val_dset = data.MoleculeDataset(val_data[0], featurizer)\n",
    "val_dset.normalize_targets(scaler)\n",
    "test_dset = data.MoleculeDataset(test_data[0], featurizer)\n",
    "train_loader = data.build_dataloader(train_dset, num_workers=1)\n",
    "val_loader = data.build_dataloader(val_dset, num_workers=1, shuffle=False)\n",
    "test_loader = data.build_dataloader(test_dset, num_workers=1, shuffle=False)"
   ]
  },
  {
   "cell_type": "markdown",
   "id": "5246bae1",
   "metadata": {},
   "source": [
    "To build the model, we first need to download the CheMeleon model weights from Zenodo."
   ]
  },
  {
   "cell_type": "code",
   "execution_count": 14,
   "id": "dc361e0b",
   "metadata": {},
   "outputs": [],
   "source": [
    "from urllib.request import urlretrieve"
   ]
  },
  {
   "cell_type": "code",
   "execution_count": 15,
   "id": "221758c6",
   "metadata": {},
   "outputs": [],
   "source": [
    "ckpt_dir = Path().home() / \".chemprop\"\n",
    "ckpt_dir.mkdir(exist_ok=True)\n",
    "mp_path = ckpt_dir / \"chemeleon_mp.pt\"\n",
    "if not mp_path.exists():\n",
    "    urlretrieve(\n",
    "        r\"https://zenodo.org/records/15460715/files/chemeleon_mp.pt\",\n",
    "        mp_path,\n",
    "    )"
   ]
  },
  {
   "cell_type": "markdown",
   "id": "a8d00097",
   "metadata": {},
   "source": [
    "Now we can initialize the CheMeleon model with a new RegressionFFN for fine tuning on our task"
   ]
  },
  {
   "cell_type": "code",
   "execution_count": 16,
   "id": "b526584f",
   "metadata": {},
   "outputs": [],
   "source": [
    "import torch"
   ]
  },
  {
   "cell_type": "code",
   "execution_count": 17,
   "id": "35d1f811",
   "metadata": {},
   "outputs": [
    {
     "data": {
      "text/plain": [
       "MPNN(\n",
       "  (message_passing): BondMessagePassing(\n",
       "    (W_i): Linear(in_features=86, out_features=2048, bias=False)\n",
       "    (W_h): Linear(in_features=2048, out_features=2048, bias=False)\n",
       "    (W_o): Linear(in_features=2120, out_features=2048, bias=True)\n",
       "    (dropout): Dropout(p=0.0, inplace=False)\n",
       "    (tau): ReLU()\n",
       "    (V_d_transform): Identity()\n",
       "    (graph_transform): Identity()\n",
       "  )\n",
       "  (agg): MeanAggregation()\n",
       "  (bn): Identity()\n",
       "  (predictor): RegressionFFN(\n",
       "    (ffn): MLP(\n",
       "      (0): Sequential(\n",
       "        (0): Linear(in_features=2050, out_features=300, bias=True)\n",
       "      )\n",
       "      (1): Sequential(\n",
       "        (0): ReLU()\n",
       "        (1): Dropout(p=0.0, inplace=False)\n",
       "        (2): Linear(in_features=300, out_features=1, bias=True)\n",
       "      )\n",
       "    )\n",
       "    (criterion): MSE(task_weights=[[1.0]])\n",
       "    (output_transform): UnscaleTransform()\n",
       "  )\n",
       "  (X_d_transform): Identity()\n",
       "  (metrics): ModuleList(\n",
       "    (0): RMSE(task_weights=[[1.0]])\n",
       "    (1): MAE(task_weights=[[1.0]])\n",
       "    (2): MSE(task_weights=[[1.0]])\n",
       "  )\n",
       ")"
      ]
     },
     "execution_count": 17,
     "metadata": {},
     "output_type": "execute_result"
    }
   ],
   "source": [
    "agg = nn.MeanAggregation()\n",
    "chemeleon_mp = torch.load(mp_path, weights_only=True)\n",
    "mp = nn.BondMessagePassing(**chemeleon_mp['hyper_parameters'])\n",
    "mp.load_state_dict(chemeleon_mp['state_dict'])\n",
    "agg = nn.MeanAggregation()\n",
    "output_transform = nn.UnscaleTransform.from_standard_scaler(scaler)\n",
    "ffn = nn.RegressionFFN(\n",
    "    input_dim=mp.output_dim + train_dset.d_xd,\n",
    "    output_transform=output_transform,\n",
    ")\n",
    "batch_norm = False\n",
    "metric_list = [nn.metrics.RMSE(), nn.metrics.MAE()] # Only the first metric is used for training and early stopping\n",
    "mpnn = models.MPNN(mp, agg, ffn, batch_norm, metric_list)\n",
    "mpnn\n",
    "\n"
   ]
  },
  {
   "cell_type": "markdown",
   "id": "8a54f33a",
   "metadata": {},
   "source": [
    "Finally, time for training and inference!"
   ]
  },
  {
   "cell_type": "code",
   "execution_count": 18,
   "id": "bf42a867",
   "metadata": {},
   "outputs": [
    {
     "name": "stderr",
     "output_type": "stream",
     "text": [
      "💡 Tip: For seamless cloud uploads and versioning, try installing [litmodels](https://pypi.org/project/litmodels/) to enable LitModelCheckpoint, which syncs automatically with the Lightning model registry.\n",
      "GPU available: True (cuda), used: True\n",
      "TPU available: False, using: 0 TPU cores\n",
      "HPU available: False, using: 0 HPUs\n"
     ]
    }
   ],
   "source": [
    "trainer = pl.Trainer(\n",
    "    logger=False,\n",
    "    enable_checkpointing=True, # Use `True` if you want to save model checkpoints. The checkpoints will be saved in the `checkpoints` folder.\n",
    "    enable_progress_bar=True,\n",
    "    accelerator=\"auto\",\n",
    "    devices=1,\n",
    "    callbacks=[EarlyStopping(\"val_loss\")],\n",
    "    max_epochs=20, # number of epochs to train for\n",
    ")"
   ]
  },
  {
   "cell_type": "code",
   "execution_count": 19,
   "id": "f2edd49b",
   "metadata": {},
   "outputs": [
    {
     "name": "stderr",
     "output_type": "stream",
     "text": [
      "/home/jackson/miniconda3/envs/chemeleon_orca/lib/python3.12/site-packages/lightning/pytorch/callbacks/model_checkpoint.py:701: Checkpoint directory /home/jackson/chemeleon_orca/checkpoints exists and is not empty.\n",
      "LOCAL_RANK: 0 - CUDA_VISIBLE_DEVICES: [0]\n",
      "Loading `train_dataloader` to estimate number of stepping batches.\n",
      "/home/jackson/miniconda3/envs/chemeleon_orca/lib/python3.12/site-packages/lightning/pytorch/trainer/connectors/data_connector.py:433: The 'train_dataloader' does not have many workers which may be a bottleneck. Consider increasing the value of the `num_workers` argument` to `num_workers=15` in the `DataLoader` to improve performance.\n",
      "\n",
      "  | Name            | Type               | Params | Mode \n",
      "---------------------------------------------------------------\n",
      "0 | message_passing | BondMessagePassing | 8.7 M  | train\n",
      "1 | agg             | MeanAggregation    | 0      | train\n",
      "2 | bn              | Identity           | 0      | train\n",
      "3 | predictor       | RegressionFFN      | 615 K  | train\n",
      "4 | X_d_transform   | Identity           | 0      | train\n",
      "5 | metrics         | ModuleList         | 0      | train\n",
      "---------------------------------------------------------------\n",
      "9.3 M     Trainable params\n",
      "0         Non-trainable params\n",
      "9.3 M     Total params\n",
      "37.319    Total estimated model params size (MB)\n",
      "25        Modules in train mode\n",
      "0         Modules in eval mode\n"
     ]
    },
    {
     "data": {
      "application/vnd.jupyter.widget-view+json": {
       "model_id": "9f94c9235fd147dd889d3a9ee32425f3",
       "version_major": 2,
       "version_minor": 0
      },
      "text/plain": [
       "Sanity Checking: |          | 0/? [00:00<?, ?it/s]"
      ]
     },
     "metadata": {},
     "output_type": "display_data"
    },
    {
     "name": "stderr",
     "output_type": "stream",
     "text": [
      "/home/jackson/miniconda3/envs/chemeleon_orca/lib/python3.12/site-packages/lightning/pytorch/trainer/connectors/data_connector.py:433: The 'val_dataloader' does not have many workers which may be a bottleneck. Consider increasing the value of the `num_workers` argument` to `num_workers=15` in the `DataLoader` to improve performance.\n"
     ]
    },
    {
     "data": {
      "application/vnd.jupyter.widget-view+json": {
       "model_id": "fa16e7a047fb4ff399f3364190f90d90",
       "version_major": 2,
       "version_minor": 0
      },
      "text/plain": [
       "Training: |          | 0/? [00:00<?, ?it/s]"
      ]
     },
     "metadata": {},
     "output_type": "display_data"
    },
    {
     "data": {
      "application/vnd.jupyter.widget-view+json": {
       "model_id": "634ed71eddb843aaba956ed0b15a9413",
       "version_major": 2,
       "version_minor": 0
      },
      "text/plain": [
       "Validation: |          | 0/? [00:00<?, ?it/s]"
      ]
     },
     "metadata": {},
     "output_type": "display_data"
    },
    {
     "data": {
      "application/vnd.jupyter.widget-view+json": {
       "model_id": "daf7157de951466a854e23b26103297d",
       "version_major": 2,
       "version_minor": 0
      },
      "text/plain": [
       "Validation: |          | 0/? [00:00<?, ?it/s]"
      ]
     },
     "metadata": {},
     "output_type": "display_data"
    },
    {
     "data": {
      "application/vnd.jupyter.widget-view+json": {
       "model_id": "5dfe53a07c79429ab51ac498cb1656fb",
       "version_major": 2,
       "version_minor": 0
      },
      "text/plain": [
       "Validation: |          | 0/? [00:00<?, ?it/s]"
      ]
     },
     "metadata": {},
     "output_type": "display_data"
    },
    {
     "data": {
      "application/vnd.jupyter.widget-view+json": {
       "model_id": "95a6b4401f284e85837aa71f1e0056a2",
       "version_major": 2,
       "version_minor": 0
      },
      "text/plain": [
       "Validation: |          | 0/? [00:00<?, ?it/s]"
      ]
     },
     "metadata": {},
     "output_type": "display_data"
    },
    {
     "data": {
      "application/vnd.jupyter.widget-view+json": {
       "model_id": "1e526783b40e4b9da79a4adb19c1c969",
       "version_major": 2,
       "version_minor": 0
      },
      "text/plain": [
       "Validation: |          | 0/? [00:00<?, ?it/s]"
      ]
     },
     "metadata": {},
     "output_type": "display_data"
    },
    {
     "data": {
      "application/vnd.jupyter.widget-view+json": {
       "model_id": "74ea09371bb34745a0aaeaa7a9fd3da6",
       "version_major": 2,
       "version_minor": 0
      },
      "text/plain": [
       "Validation: |          | 0/? [00:00<?, ?it/s]"
      ]
     },
     "metadata": {},
     "output_type": "display_data"
    },
    {
     "data": {
      "application/vnd.jupyter.widget-view+json": {
       "model_id": "acf12f87a7f144caa0077d20fd80aa6d",
       "version_major": 2,
       "version_minor": 0
      },
      "text/plain": [
       "Validation: |          | 0/? [00:00<?, ?it/s]"
      ]
     },
     "metadata": {},
     "output_type": "display_data"
    },
    {
     "data": {
      "application/vnd.jupyter.widget-view+json": {
       "model_id": "890cf6a05d5d4d35b51eb249c732f2c8",
       "version_major": 2,
       "version_minor": 0
      },
      "text/plain": [
       "Validation: |          | 0/? [00:00<?, ?it/s]"
      ]
     },
     "metadata": {},
     "output_type": "display_data"
    },
    {
     "data": {
      "application/vnd.jupyter.widget-view+json": {
       "model_id": "79145ec19bad4aabb18a1b4210a6732f",
       "version_major": 2,
       "version_minor": 0
      },
      "text/plain": [
       "Validation: |          | 0/? [00:00<?, ?it/s]"
      ]
     },
     "metadata": {},
     "output_type": "display_data"
    },
    {
     "data": {
      "application/vnd.jupyter.widget-view+json": {
       "model_id": "8724b10baf5d4c158b2d94496f3968ae",
       "version_major": 2,
       "version_minor": 0
      },
      "text/plain": [
       "Validation: |          | 0/? [00:00<?, ?it/s]"
      ]
     },
     "metadata": {},
     "output_type": "display_data"
    }
   ],
   "source": [
    "trainer.fit(mpnn, train_loader, val_loader)"
   ]
  },
  {
   "cell_type": "code",
   "execution_count": 20,
   "id": "d972f6e1",
   "metadata": {},
   "outputs": [],
   "source": [
    "mpnn = models.MPNN.load_from_checkpoint(trainer.checkpoint_callback.best_model_path)"
   ]
  },
  {
   "cell_type": "code",
   "execution_count": 21,
   "id": "b8392d4a",
   "metadata": {},
   "outputs": [
    {
     "name": "stderr",
     "output_type": "stream",
     "text": [
      "LOCAL_RANK: 0 - CUDA_VISIBLE_DEVICES: [0]\n",
      "/home/jackson/miniconda3/envs/chemeleon_orca/lib/python3.12/site-packages/lightning/pytorch/trainer/connectors/data_connector.py:433: The 'predict_dataloader' does not have many workers which may be a bottleneck. Consider increasing the value of the `num_workers` argument` to `num_workers=15` in the `DataLoader` to improve performance.\n"
     ]
    },
    {
     "data": {
      "application/vnd.jupyter.widget-view+json": {
       "model_id": "b896c7d263df406fbb5dca4e64f4a14e",
       "version_major": 2,
       "version_minor": 0
      },
      "text/plain": [
       "Predicting: |          | 0/? [00:00<?, ?it/s]"
      ]
     },
     "metadata": {},
     "output_type": "display_data"
    }
   ],
   "source": [
    "predictions = torch.cat([t.flatten() for t in trainer.predict(mpnn, test_loader)]).tolist()"
   ]
  },
  {
   "cell_type": "code",
   "execution_count": 22,
   "id": "f8b3c662",
   "metadata": {},
   "outputs": [],
   "source": [
    "initial_guess = [float(lumo - homo) for homo, lumo in np.array(x_ds)[test_indices][0]]"
   ]
  },
  {
   "cell_type": "code",
   "execution_count": 23,
   "id": "91fe6a0b",
   "metadata": {},
   "outputs": [],
   "source": [
    "true_gap = test_dset.Y.flatten().tolist()"
   ]
  },
  {
   "cell_type": "markdown",
   "id": "4ed3d337",
   "metadata": {},
   "source": [
    "## Step 4: Visualizing Results\n",
    "\n",
    "Using `matplotlib` we can compare how well the Force Field//Hartree-Fock+STO-3G HOMO-LUMO gaps and their CheMeleon-improved versions compare against the 'true' values from the GW dataset.\n",
    "We've downsampled this dataset significantly for the purpose of a quick demo, but the same point still comes across!"
   ]
  },
  {
   "cell_type": "code",
   "execution_count": 24,
   "id": "9de4451c",
   "metadata": {},
   "outputs": [
    {
     "data": {
      "image/png": "[encoded data removed]",
      "text/plain": [
       "<Figure size 400x400 with 1 Axes>"
      ]
     },
     "metadata": {},
     "output_type": "display_data"
    }
   ],
   "source": [
    "import numpy as np\n",
    "import matplotlib.pyplot as plt\n",
    "from sklearn.metrics import mean_squared_error\n",
    "from scipy.stats import pearsonr\n",
    "from sklearn.linear_model import LinearRegression\n",
    "\n",
    "true_gap = np.array(true_gap)\n",
    "initial_guess = np.array(initial_guess)\n",
    "predictions = np.array(predictions)\n",
    "\n",
    "rmse_init = np.sqrt(mean_squared_error(true_gap, initial_guess))\n",
    "rmse_pred = np.sqrt(mean_squared_error(true_gap, predictions))\n",
    "r_init, _ = pearsonr(true_gap, initial_guess)\n",
    "r_pred, _ = pearsonr(true_gap, predictions)\n",
    "\n",
    "def fit_and_plot(ax, x, y, color):\n",
    "    model = LinearRegression()\n",
    "    model.fit(x.reshape(-1, 1), y)\n",
    "    x_line = np.linspace(min(x), max(x), 100)\n",
    "    y_line = model.predict(x_line.reshape(-1, 1))\n",
    "    ax.plot(x_line, y_line, color=color, linestyle='--', alpha=0.8)\n",
    "    ax.scatter(x, y, color=color, alpha=0.7)\n",
    "\n",
    "fig, ax = plt.subplots(figsize=(4, 4))\n",
    "\n",
    "fit_and_plot(ax, true_gap, initial_guess, 'tab:orange')\n",
    "fit_and_plot(ax, true_gap, predictions, 'tab:blue')\n",
    "\n",
    "# Parity line (y = x)\n",
    "lims = [min(true_gap.min(), initial_guess.min(), predictions.min()),\n",
    "        max(true_gap.max(), initial_guess.max(), predictions.max())]\n",
    "ax.plot(lims, lims, 'k-', lw=1, alpha=0.8)\n",
    "\n",
    "# Labels and style\n",
    "ax.set_xlabel(\"GW HOMO-LUMO Gap (eV)\")\n",
    "ax.set_ylabel(\"Predicted HOMO-LUMO Gap (eV)\")\n",
    "ax.set_title(\"CheMeleon Hartree-Fock Transfer Learning\")\n",
    "ax.set_aspect('equal', 'box')\n",
    "\n",
    "# Add stats text\n",
    "ax.text(0.985, 0.5, f\"HF+STO-3G\\nPearson r={r_init:.2f}\\nRMSE={rmse_init:.2f}\",\n",
    "        transform=ax.transAxes, ha='right', va='top', color='tab:orange',\n",
    "        fontsize=14, fontweight='bold')\n",
    "\n",
    "ax.text(0.985, 0.02, f\"CheMeleon\\nPearson r={r_pred:.2f}\\nRMSE={rmse_pred:.2f}\",\n",
    "        transform=ax.transAxes, ha='right', va='bottom', color='tab:blue',\n",
    "        fontsize=14, fontweight='bold')\n",
    "\n",
    "ax.grid(True, linestyle='--', linewidth=0.5, alpha=0.5)\n",
    "\n",
    "plt.tight_layout()\n",
    "plt.show()\n"
   ]
  },
  {
   "cell_type": "markdown",
   "id": "279b0429",
   "metadata": {},
   "source": [
    "CheMeleon corrects _both_ the linear offset from the parity line as well as the slope of the predictions, in doing so dramatically reducing the Root Mean Squared Error (RMSE).\n",
    "While the resulting error isn't quite to the level of chemical accuracy, the dramatic improvement over the baseline show that, with more data (which we have) and some patience we could easily develop a strong model for this task."
   ]
  }
 ],
 "metadata": {
  "jupytext": {
   "cell_metadata_filter": "-all",
   "executable": "/usr/bin/env python3",
   "main_language": "python",
   "notebook_metadata_filter": "-all"
  },
  "kernelspec": {
   "display_name": "opi",
   "language": "python",
   "name": "python3"
  },
  "language_info": {
   "codemirror_mode": {
    "name": "ipython",
    "version": 3
   },
   "file_extension": ".py",
   "mimetype": "text/x-python",
   "name": "python",
   "nbconvert_exporter": "python",
   "pygments_lexer": "ipython3",
   "version": "3.12.3"
  }
 },
 "nbformat": 4,
 "nbformat_minor": 5
}
